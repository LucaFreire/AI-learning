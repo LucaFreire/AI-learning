{
  "cells": [
    {
      "cell_type": "markdown",
      "metadata": {
        "id": "view-in-github",
        "colab_type": "text"
      },
      "source": [
        "<a href=\"https://colab.research.google.com/github/LucaFreire/machine-learning/blob/main/BrazilCrashes.ipynb\" target=\"_parent\"><img src=\"https://colab.research.google.com/assets/colab-badge.svg\" alt=\"Open In Colab\"/></a>"
      ]
    },
    {
      "cell_type": "code",
      "source": [
        "!pip install -U scikit-learn\n",
        "!pip install pandas\n",
        "!pip install joblib\n",
        "!pip install numpy"
      ],
      "metadata": {
        "id": "Zk18N-KzINGC",
        "outputId": "15d044f1-683f-457f-cf41-7ecb3910fc48",
        "colab": {
          "base_uri": "https://localhost:8080/"
        }
      },
      "execution_count": 62,
      "outputs": [
        {
          "output_type": "stream",
          "name": "stdout",
          "text": [
            "Requirement already satisfied: scikit-learn in /usr/local/lib/python3.10/dist-packages (1.3.2)\n",
            "Requirement already satisfied: numpy<2.0,>=1.17.3 in /usr/local/lib/python3.10/dist-packages (from scikit-learn) (1.23.5)\n",
            "Requirement already satisfied: scipy>=1.5.0 in /usr/local/lib/python3.10/dist-packages (from scikit-learn) (1.11.3)\n",
            "Requirement already satisfied: joblib>=1.1.1 in /usr/local/lib/python3.10/dist-packages (from scikit-learn) (1.3.2)\n",
            "Requirement already satisfied: threadpoolctl>=2.0.0 in /usr/local/lib/python3.10/dist-packages (from scikit-learn) (3.2.0)\n",
            "Requirement already satisfied: pandas in /usr/local/lib/python3.10/dist-packages (1.5.3)\n",
            "Requirement already satisfied: python-dateutil>=2.8.1 in /usr/local/lib/python3.10/dist-packages (from pandas) (2.8.2)\n",
            "Requirement already satisfied: pytz>=2020.1 in /usr/local/lib/python3.10/dist-packages (from pandas) (2023.3.post1)\n",
            "Requirement already satisfied: numpy>=1.21.0 in /usr/local/lib/python3.10/dist-packages (from pandas) (1.23.5)\n",
            "Requirement already satisfied: six>=1.5 in /usr/local/lib/python3.10/dist-packages (from python-dateutil>=2.8.1->pandas) (1.16.0)\n",
            "Requirement already satisfied: joblib in /usr/local/lib/python3.10/dist-packages (1.3.2)\n",
            "Requirement already satisfied: numpy in /usr/local/lib/python3.10/dist-packages (1.23.5)\n"
          ]
        }
      ]
    },
    {
      "cell_type": "code",
      "source": [
        "# libraries\n",
        "import numpy as np\n",
        "import pandas as pd\n",
        "import os\n",
        "from sklearn.datasets import load_breast_cancer\n",
        "from sklearn.tree import DecisionTreeClassifier, plot_tree\n",
        "from sklearn.model_selection import train_test_split\n",
        "from sklearn.metrics import accuracy_score, confusion_matrix\n",
        "from joblib import load, dump"
      ],
      "metadata": {
        "id": "hPpehBQmH0SM"
      },
      "execution_count": 63,
      "outputs": []
    },
    {
      "cell_type": "code",
      "source": [
        "for dirname, _, filenames in os.walk('./'):\n",
        "      print(os.path.join(dirname))"
      ],
      "metadata": {
        "id": "qaa83MUlIGbb",
        "outputId": "992026eb-c9c4-483d-8819-78e4a6d55cdf",
        "colab": {
          "base_uri": "https://localhost:8080/"
        }
      },
      "execution_count": 71,
      "outputs": [
        {
          "output_type": "stream",
          "name": "stdout",
          "text": [
            "./\n",
            "./.config\n",
            "./.config/configurations\n",
            "./.config/logs\n",
            "./.config/logs/2023.11.03\n",
            "./.ipynb_checkpoints\n",
            "./drive\n",
            "./drive/MyDrive\n",
            "./drive/MyDrive/Classroom\n",
            "./drive/MyDrive/Classroom/Lógica TDS Tarde 2022\n",
            "./drive/MyDrive/Classroom/IoT 2023 - Aprendizagem\n",
            "./drive/MyDrive/Classroom/SENAI Turma IoT - Tarde - T-004\n",
            "./drive/MyDrive/Classroom/Modelagem de Sistemas APT-V-G00008 2023\n",
            "./drive/MyDrive/Docs\n",
            "./drive/MyDrive/Outros\n",
            "./drive/MyDrive/Estudos\n",
            "./drive/MyDrive/Estudos/Facul\n",
            "./drive/MyDrive/Estudos/Facul/UniSenai\n",
            "./drive/MyDrive/Estudos/Facul/UniSenai/CTS\n",
            "./drive/MyDrive/Estudos/Facul/UniSenai/Jornada de Aprendizado\n",
            "./drive/MyDrive/Estudos/Facul/UniSenai/Lógica Computacional\n",
            "./drive/MyDrive/Estudos/Facul/UniSenai/Software\n",
            "./drive/MyDrive/Estudos/Facul/Unicesumar\n",
            "./drive/MyDrive/Estudos/Modelagem\n",
            "./drive/MyDrive/Estudos/Modelagem/Software\n",
            "./drive/MyDrive/Estudos/Modelagem/Negócios\n",
            "./drive/MyDrive/Estudos/Trabalho Modelagem\n",
            "./drive/MyDrive/Estudos/Machine Learning\n",
            "./drive/MyDrive/Estudos/.ipynb_checkpoints\n",
            "./drive/MyDrive/Pudins\n",
            "./drive/.shortcut-targets-by-id\n",
            "./drive/.file-revisions-by-id\n",
            "./drive/.Trash-0\n",
            "./drive/.Trash-0/files\n",
            "./drive/.Trash-0/info\n",
            "./sample_data\n"
          ]
        }
      ]
    }
  ],
  "metadata": {
    "colab": {
      "name": "Olá, este é o Colaboratory",
      "provenance": [],
      "include_colab_link": true
    },
    "kernelspec": {
      "display_name": "Python 3",
      "name": "python3"
    }
  },
  "nbformat": 4,
  "nbformat_minor": 0
}